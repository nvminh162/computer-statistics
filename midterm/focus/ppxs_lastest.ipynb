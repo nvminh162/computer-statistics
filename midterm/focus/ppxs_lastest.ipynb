{
 "cells": [
  {
   "cell_type": "markdown",
   "metadata": {},
   "source": [
    "# from scipy.stats import binom\n",
    "\n",
    "Bạn làm việc tại một nhà máy sản xuất bóng đèn. Mỗi bóng đèn có xác suất bị lỗi là 5% (0.05). Bạn kiểm tra 20 bóng đèn và muốn:\n",
    "\n",
    "- Tính xác suất có đúng 2 bóng đèn bị lỗi (pmf).\n",
    "- Tính xác suất có 2 hoặc ít hơn bóng đèn bị lỗi (cdf).\n",
    "- Tính xác suất có hơn 2 bóng đèn bị lỗi (sf).\n",
    "- Tìm số lượng bóng đèn lỗi sao cho xác suất tích lũy đạt 90% (ppf).\n",
    "- Tìm số lượng bóng đèn lỗi sao cho xác suất đuôi trên là 10% (isf).\n",
    "- Mô phỏng số bóng đèn bị lỗi trong 5 lô hàng, mỗi lô 20 bóng (rvs)."
   ]
  },
  {
   "cell_type": "code",
   "execution_count": 5,
   "metadata": {},
   "outputs": [
    {
     "name": "stdout",
     "output_type": "stream",
     "text": [
      "Xác suất có đúng 2 bóng đèn bị lỗi trong 20 bóng là 0.1887\n",
      "Xác suất có 2 hoặc ít hơn bóng đèn bị lỗi là 0.9245\n",
      "Xác suất có hơn 2 bóng đèn bị lỗi là 0.0755\n",
      "Số bóng đèn lỗi tại phân vị 90% là: 2\n",
      "Số bóng đèn lỗi sao cho xác suất đuôi trên 10% là: 2\n",
      "Số bóng đèn bị lỗi trong 5 lô hàng mô phỏng: [2 0 1 1 1]\n"
     ]
    }
   ],
   "source": [
    "from scipy.stats import binom\n",
    "\n",
    "# Các tham số\n",
    "n = 20  # Số bóng đèn (số thử nghiệm)\n",
    "p = 0.05  # Xác suất một bóng đèn bị lỗi (xác suất thành công)\n",
    "k = 2  # Số bóng đèn bị lỗi mong muốn (số lần thành công)\n",
    "\n",
    "# 1. Tính xác suất có đúng 2 bóng đèn bị lỗi (PMF)\n",
    "xuat_sac_suat = binom.pmf(k, n, p)\n",
    "print(f\"Xác suất có đúng {k} bóng đèn bị lỗi trong {n} bóng là {xuat_sac_suat:.4f}\")\n",
    "\n",
    "# 2. Tính xác suất có 2 hoặc ít hơn bóng đèn bị lỗi (CDF)\n",
    "xuat_sac_suat_2_hoac_it_hon = binom.cdf(k, n, p)\n",
    "print(f\"Xác suất có 2 hoặc ít hơn bóng đèn bị lỗi là {xuat_sac_suat_2_hoac_it_hon:.4f}\")\n",
    "\n",
    "# 3. Tính xác suất có hơn 2 bóng đèn bị lỗi (SF)\n",
    "xuat_sac_suat_lon_hon_2 = binom.sf(k, n, p)\n",
    "print(f\"Xác suất có hơn 2 bóng đèn bị lỗi là {xuat_sac_suat_lon_hon_2:.4f}\")\n",
    "\n",
    "# 4. Tìm số bóng đèn lỗi sao cho xác suất tích lũy đạt 90% (PPF)\n",
    "k_90_percentile = binom.ppf(0.90, n, p)\n",
    "print(f\"Số bóng đèn lỗi tại phân vị 90% là: {int(k_90_percentile)}\")\n",
    "\n",
    "# 5. Tìm số bóng đèn lỗi sao cho xác suất đuôi trên là 10% (ISF)\n",
    "k_10_percent_tail = binom.isf(0.10, n, p)\n",
    "print(f\"Số bóng đèn lỗi sao cho xác suất đuôi trên 10% là: {int(k_10_percent_tail)}\")\n",
    "\n",
    "# 6. Mô phỏng số bóng đèn bị lỗi trong 5 lô hàng, mỗi lô 20 bóng (RVS)\n",
    "mau_ngau_nhien = binom.rvs(n, p, size=5)\n",
    "print(f\"Số bóng đèn bị lỗi trong 5 lô hàng mô phỏng: {mau_ngau_nhien}\")"
   ]
  },
  {
   "cell_type": "markdown",
   "metadata": {},
   "source": [
    "# from scipy.stats import poisson\n",
    "\n",
    "Tình huống: Bạn là quản lý của một nhà máy sản xuất giấy. Trung bình, mỗi cuộn giấy dài 100 mét có 2 lỗi in ấn. Bạn muốn:\n",
    "\n",
    "- Tính xác suất có đúng 4 lỗi in ấn trên một cuộn giấy (pmf).\n",
    "- Tính xác suất có 2 hoặc ít hơn lỗi in ấn trên một cuộn giấy (cdf).\n",
    "- Tính xác suất có nhiều hơn 3 lỗi in ấn trên một cuộn giấy (sf).\n",
    "- Tìm số lỗi in ấn sao cho xác suất tích lũy đạt 90% (ppf).\n",
    "- Tìm số lỗi in ấn sao cho xác suất đuôi trên là 10% (isf).\n",
    "- Mô phỏng số lỗi in ấn trên 5 cuộn giấy để dự đoán tình hình sản xuất (rvs)."
   ]
  },
  {
   "cell_type": "code",
   "execution_count": 6,
   "metadata": {},
   "outputs": [
    {
     "name": "stdout",
     "output_type": "stream",
     "text": [
      "Xác suất có đúng 4 lỗi in ấn trên một cuộn giấy là 0.0902\n",
      "Xác suất có 2 hoặc ít hơn lỗi in ấn trên một cuộn giấy là 0.6767\n",
      "Xác suất có nhiều hơn 3 lỗi in ấn trên một cuộn giấy là 0.1429\n",
      "Số lỗi in ấn tại phân vị 90% là: 4\n",
      "Số lỗi in ấn sao cho xác suất đuôi trên 10% là: 4\n",
      "Số lỗi in ấn trên 5 cuộn giấy mô phỏng: [2 2 0 2 4]\n"
     ]
    }
   ],
   "source": [
    "from scipy.stats import poisson\n",
    "\n",
    "# Tham số\n",
    "lambda_ = 2  # Trung bình 2 lỗi in ấn trên mỗi cuộn giấy 100 mét\n",
    "k = 4  # Số lỗi in ấn mong muốn (dùng làm tham chiếu)\n",
    "\n",
    "# 1. Tính xác suất có đúng 4 lỗi in ấn (PMF)\n",
    "xuat_sac_suat = poisson.pmf(k, lambda_)\n",
    "print(f\"Xác suất có đúng {k} lỗi in ấn trên một cuộn giấy là {xuat_sac_suat:.4f}\")\n",
    "\n",
    "# 2. Tính xác suất có 2 hoặc ít hơn lỗi in ấn (CDF)\n",
    "xuat_sac_suat_2_hoac_it_hon = poisson.cdf(2, lambda_)\n",
    "print(f\"Xác suất có 2 hoặc ít hơn lỗi in ấn trên một cuộn giấy là {xuat_sac_suat_2_hoac_it_hon:.4f}\")\n",
    "\n",
    "# 3. Tính xác suất có nhiều hơn 3 lỗi in ấn (SF)\n",
    "xuat_sac_suat_lon_hon_3 = poisson.sf(3, lambda_)\n",
    "print(f\"Xác suất có nhiều hơn 3 lỗi in ấn trên một cuộn giấy là {xuat_sac_suat_lon_hon_3:.4f}\")\n",
    "\n",
    "# 4. Tìm số lỗi in ấn sao cho xác suất tích lũy đạt 90% (PPF)\n",
    "k_90_percentile = poisson.ppf(0.90, lambda_)\n",
    "print(f\"Số lỗi in ấn tại phân vị 90% là: {int(k_90_percentile)}\")\n",
    "\n",
    "# 5. Tìm số lỗi in ấn sao cho xác suất đuôi trên là 10% (ISF)\n",
    "k_10_percent_tail = poisson.isf(0.10, lambda_)\n",
    "print(f\"Số lỗi in ấn sao cho xác suất đuôi trên 10% là: {int(k_10_percent_tail)}\")\n",
    "\n",
    "# 6. Mô phỏng số lỗi in ấn trên 5 cuộn giấy (RVS)\n",
    "mo_phong = poisson.rvs(lambda_, size=5)\n",
    "print(f\"Số lỗi in ấn trên 5 cuộn giấy mô phỏng: {mo_phong}\")"
   ]
  },
  {
   "cell_type": "markdown",
   "metadata": {},
   "source": [
    "# from scipy.stats import norm\n",
    "\n",
    "Bạn là giáo viên, phân tích điểm thi của học sinh. Điểm thi tuân theo phân phối chuẩn với:\n",
    "\n",
    "Trung bình (μ) = 75.\n",
    "Độ lệch chuẩn (σ) = 10.\n",
    "Bạn muốn:\n",
    "\n",
    "- Tính mật độ xác suất tại điểm 80 (pdf).\n",
    "- Tính xác suất điểm từ 80 đến 90 (cdf).\n",
    "- Tính xác suất điểm lớn hơn 85 (sf).\n",
    "- Tìm điểm số sao cho 90% học sinh có điểm thấp hơn (ppf).\n",
    "- Tìm điểm số sao cho 10% học sinh có điểm cao hơn (isf).\n",
    "- Mô phỏng điểm thi của 5 học sinh (rvs)."
   ]
  },
  {
   "cell_type": "code",
   "execution_count": 7,
   "metadata": {},
   "outputs": [
    {
     "name": "stdout",
     "output_type": "stream",
     "text": [
      "Mật độ xác suất tại điểm 80: 0.0352\n",
      "Xác suất điểm từ 80 đến 90: 0.2417\n",
      "Xác suất điểm lớn hơn 85: 0.1587\n",
      "Điểm số tại phân vị 90%: 87.82\n",
      "Điểm số sao cho xác suất đuôi trên 10%: 87.82\n",
      "Điểm mô phỏng của 5 học sinh: [70.91 76.11 65.25 66.8  81.61]\n"
     ]
    }
   ],
   "source": [
    "from scipy.stats import norm\n",
    "import numpy as np\n",
    "\n",
    "# Tham số của phân phối\n",
    "mu = 75  # Giá trị trung bình\n",
    "sigma = 10  # Độ lệch chuẩn\n",
    "\n",
    "# 1. Tính mật độ xác suất tại điểm 80 (PDF)\n",
    "density_at_80 = norm.pdf(80, mu, sigma)\n",
    "print(f\"Mật độ xác suất tại điểm 80: {density_at_80:.4f}\")\n",
    "\n",
    "# 2. Tính xác suất điểm từ 80 đến 90 (CDF)\n",
    "prob_80_90 = norm.cdf(90, mu, sigma) - norm.cdf(80, mu, sigma)\n",
    "print(f\"Xác suất điểm từ 80 đến 90: {prob_80_90:.4f}\")\n",
    "\n",
    "# 3. Tính xác suất điểm lớn hơn 85 (SF)\n",
    "prob_above_85 = norm.sf(85, mu, sigma)\n",
    "print(f\"Xác suất điểm lớn hơn 85: {prob_above_85:.4f}\")\n",
    "\n",
    "# 4. Tìm điểm số sao cho 90% học sinh có điểm thấp hơn (PPF)\n",
    "score_90_percentile = norm.ppf(0.90, mu, sigma)\n",
    "print(f\"Điểm số tại phân vị 90%: {score_90_percentile:.2f}\")\n",
    "\n",
    "# 5. Tìm điểm số sao cho 10% học sinh có điểm cao hơn (ISF)\n",
    "score_10_percent_tail = norm.isf(0.10, mu, sigma)\n",
    "print(f\"Điểm số sao cho xác suất đuôi trên 10%: {score_10_percent_tail:.2f}\")\n",
    "\n",
    "# 6. Mô phỏng điểm của 5 học sinh (RVS)\n",
    "simulated_scores = norm.rvs(mu, sigma, size=5)\n",
    "print(f\"Điểm mô phỏng của 5 học sinh: {np.round(simulated_scores, 2)}\")"
   ]
  },
  {
   "cell_type": "markdown",
   "metadata": {},
   "source": [
    "# from scipy.stats import t\n",
    "\n",
    "Tình huống: Bạn là một nhà nghiên cứu, phân tích lượng mưa trong 5 ngày với dữ liệu: [10, 12, 8, 11, 9] mm. Dữ liệu này được giả định tuân theo phân phối chuẩn, nhưng do mẫu nhỏ (n = 5), bạn sử dụng phân phối t để phân tích. Số bậc tự do là \n",
    "𝑑𝑓 = 𝑛−1 = 4. Bạn muốn:\n",
    "\n",
    "- Tính mật độ xác suất của giá trị t tại t=1 (pdf).\n",
    "- Tính xác suất để giá trị t nằm trong khoảng từ -1 đến 1 (cdf).\n",
    "- Tính xác suất để giá trị t lớn hơn 1 (sf).\n",
    "- Tìm giá trị t sao cho 95% giá trị t nhỏ hơn (phân vị 95%, ppf).\n",
    "- Tìm giá trị t sao cho 5% giá trị t lớn hơn (xác suất đuôi trên 5%, isf).\n",
    "- Mô phỏng 5 giá trị ngẫu nhiên từ phân phối t (rvs)."
   ]
  },
  {
   "cell_type": "code",
   "execution_count": 8,
   "metadata": {},
   "outputs": [
    {
     "name": "stdout",
     "output_type": "stream",
     "text": [
      "Mật độ xác suất tại t = 1: 0.2147\n",
      "Xác suất giá trị t từ -1 đến 1: 0.6261\n",
      "Xác suất giá trị t lớn hơn 1: 0.1870\n",
      "Giá trị t tại phân vị 95%: 2.1318\n",
      "Giá trị t sao cho xác suất đuôi trên 5%: 2.1318\n",
      "Giá trị mô phỏng từ phân phối t: [ 4.31 -0.31 -0.46  0.21  1.97]\n"
     ]
    }
   ],
   "source": [
    "from scipy.stats import t\n",
    "import numpy as np\n",
    "\n",
    "# Tham số\n",
    "df = 4  # Số bậc tự do (n - 1 = 5 - 1)\n",
    "\n",
    "# 1. Tính mật độ xác suất tại t = 1 (PDF)\n",
    "density_at_1 = t.pdf(1, df)\n",
    "print(f\"Mật độ xác suất tại t = 1: {density_at_1:.4f}\")\n",
    "\n",
    "# 2. Tính xác suất giá trị t từ -1 đến 1 (CDF)\n",
    "prob_minus1_to_1 = t.cdf(1, df) - t.cdf(-1, df)\n",
    "print(f\"Xác suất giá trị t từ -1 đến 1: {prob_minus1_to_1:.4f}\")\n",
    "\n",
    "# 3. Tính xác suất giá trị t lớn hơn 1 (SF)\n",
    "prob_above_1 = t.sf(1, df)\n",
    "print(f\"Xác suất giá trị t lớn hơn 1: {prob_above_1:.4f}\")\n",
    "\n",
    "# 4. Tìm giá trị t sao cho 95% giá trị t nhỏ hơn (PPF)\n",
    "t_95_percentile = t.ppf(0.95, df)\n",
    "print(f\"Giá trị t tại phân vị 95%: {t_95_percentile:.4f}\")\n",
    "\n",
    "# 5. Tìm giá trị t sao cho 5% giá trị t lớn hơn (ISF)\n",
    "t_5_percent_tail = t.isf(0.05, df)\n",
    "print(f\"Giá trị t sao cho xác suất đuôi trên 5%: {t_5_percent_tail:.4f}\")\n",
    "\n",
    "# 6. Mô phỏng 5 giá trị ngẫu nhiên từ phân phối t (RVS)\n",
    "simulated_values = t.rvs(df, size=5)\n",
    "print(f\"Giá trị mô phỏng từ phân phối t: {np.round(simulated_values, 2)}\")"
   ]
  }
 ],
 "metadata": {
  "kernelspec": {
   "display_name": "Python 3",
   "language": "python",
   "name": "python3"
  },
  "language_info": {
   "codemirror_mode": {
    "name": "ipython",
    "version": 3
   },
   "file_extension": ".py",
   "mimetype": "text/x-python",
   "name": "python",
   "nbconvert_exporter": "python",
   "pygments_lexer": "ipython3",
   "version": "3.13.0"
  }
 },
 "nbformat": 4,
 "nbformat_minor": 2
}
